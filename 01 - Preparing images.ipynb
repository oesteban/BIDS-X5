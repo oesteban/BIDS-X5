{
 "cells": [
  {
   "cell_type": "code",
   "execution_count": null,
   "metadata": {},
   "outputs": [],
   "source": [
    "%load_ext autoreload\n",
    "%matplotlib inline\n",
    "\n",
    "import os\n",
    "from pathlib import Path\n",
    "from tempfile import TemporaryDirectory\n",
    "\n",
    "import numpy as np\n",
    "import nibabel as nb\n",
    "\n",
    "# cwd = TemporaryDirectory()\n",
    "# os.chdir(cwd.name)\n",
    "# print(os.getcwd())"
   ]
  },
  {
   "cell_type": "code",
   "execution_count": null,
   "metadata": {},
   "outputs": [],
   "source": [
    "!wget https://nipy.org/nibabel/_downloads/someones_anatomy.nii.gz"
   ]
  },
  {
   "cell_type": "code",
   "execution_count": null,
   "metadata": {},
   "outputs": [],
   "source": [
    "# Load the example\n",
    "nii = nb.load('someones_anatomy.nii.gz')\n",
    "hdr = nii.header.copy()\n",
    "aff = nii.affine.copy()\n",
    "data = nii.get_data()\n",
    "\n",
    "nii.orthoview()"
   ]
  },
  {
   "cell_type": "code",
   "execution_count": null,
   "metadata": {},
   "outputs": [],
   "source": [
    "# Create LAS version\n",
    "las_aff = aff.copy()\n",
    "las_aff[0, 0] *= -1.0\n",
    "las_aff[0, 3] = aff.dot(np.hstack((np.array(nii.shape[:3]) - 1, 1.0)))[0]\n",
    "\n",
    "las = nb.Nifti1Image(np.flip(data, 0), las_aff, nii.header)\n",
    "las.to_filename('someones_anatomy_LAS.nii.gz')\n",
    "\n",
    "# Create LPS version\n",
    "lps_aff = aff.copy()\n",
    "lps_aff[0, 0] *= -1.0\n",
    "lps_aff[1, 1] *= -1.0\n",
    "lps_aff[:2, 3] = aff.dot(np.hstack((np.array(nii.shape[:3]) - 1, 1.0)))[:2]\n",
    "\n",
    "lps = nb.Nifti1Image(np.flip(np.flip(data, 0), 1), lps_aff, nii.header)\n",
    "lps.to_filename('someones_anatomy_LPS.nii.gz')\n",
    "\n",
    "# Create version not aligned to canonical\n",
    "R = nb.affines.from_matvec(nb.eulerangles.euler2mat(x=0.09, y=0.001, z=0.001))\n",
    "new_aff = R.dot(aff)\n",
    "new = nb.Nifti1Image(data, new_aff, hdr)\n",
    "new.header.set_qform(new_aff, 1)\n",
    "new.header.set_sform(new_aff, 1)\n",
    "new.to_filename('someones_anatomy_rot.nii.gz')"
   ]
  },
  {
   "cell_type": "code",
   "execution_count": null,
   "metadata": {},
   "outputs": [],
   "source": [
    "M = nb.affines.from_matvec(nb.eulerangles.euler2mat(x=0.09, y=0.001, z=0.001), [4.0, 2.0, -1.0])"
   ]
  },
  {
   "cell_type": "code",
   "execution_count": null,
   "metadata": {},
   "outputs": [],
   "source": [
    "xfm = nb.transform.linear.Affine(M)\n",
    "xfm.matrix"
   ]
  },
  {
   "cell_type": "code",
   "execution_count": null,
   "metadata": {},
   "outputs": [],
   "source": [
    "xfm.reference = nb.load('someones_anatomy_rot.nii.gz')\n",
    "moved = xfm.resample(new)\n",
    "moved.to_filename('moved-nb.nii.gz')"
   ]
  },
  {
   "cell_type": "code",
   "execution_count": null,
   "metadata": {},
   "outputs": [],
   "source": [
    "moved.orthoview()"
   ]
  },
  {
   "cell_type": "code",
   "execution_count": null,
   "metadata": {},
   "outputs": [],
   "source": [
    "xfm.to_filename('M.tfm', fmt='itk')\n",
    "xfm.to_filename('M.fsl', fmt='fsl')\n",
    "xfm.to_filename('M.afni', fmt='afni')"
   ]
  },
  {
   "cell_type": "code",
   "execution_count": null,
   "metadata": {},
   "outputs": [],
   "source": [
    "!antsApplyTransforms -d 3 -i 'someones_anatomy_rot.nii.gz' -r 'someones_anatomy_rot.nii.gz' -o 'moved-itk.nii.gz' -n 'BSpline' -t 'M.tfm' --float"
   ]
  },
  {
   "cell_type": "code",
   "execution_count": null,
   "metadata": {},
   "outputs": [],
   "source": [
    "nb.load('moved-itk.nii.gz').orthoview()"
   ]
  },
  {
   "cell_type": "code",
   "execution_count": null,
   "metadata": {},
   "outputs": [],
   "source": [
    "!flirt -in someones_anatomy_rot.nii.gz -ref someones_anatomy_rot.nii.gz -out moved-fsl.nii.gz -init M.fsl -applyxfm"
   ]
  },
  {
   "cell_type": "code",
   "execution_count": null,
   "metadata": {},
   "outputs": [],
   "source": [
    "nb.load('moved-fsl.nii.gz').orthoview()"
   ]
  },
  {
   "cell_type": "code",
   "execution_count": null,
   "metadata": {},
   "outputs": [],
   "source": [
    "!3dAllineate -base someones_anatomy_rot.nii.gz -source someones_anatomy_rot.nii.gz -1Dmatrix_apply M.afni -prefix moved-afni -final cubic\n",
    "!3dAFNItoNIFTI moved-afni+orig\n",
    "!gzip moved-afni.nii"
   ]
  },
  {
   "cell_type": "code",
   "execution_count": null,
   "metadata": {},
   "outputs": [],
   "source": [
    "nb.load('moved-afni.nii.gz').orthoview()"
   ]
  },
  {
   "cell_type": "code",
   "execution_count": null,
   "metadata": {},
   "outputs": [],
   "source": []
  }
 ],
 "metadata": {
  "kernelspec": {
   "display_name": "Python 3",
   "language": "python",
   "name": "python3"
  },
  "language_info": {
   "codemirror_mode": {
    "name": "ipython",
    "version": 3
   },
   "file_extension": ".py",
   "mimetype": "text/x-python",
   "name": "python",
   "nbconvert_exporter": "python",
   "pygments_lexer": "ipython3",
   "version": "3.7.1"
  }
 },
 "nbformat": 4,
 "nbformat_minor": 2
}
